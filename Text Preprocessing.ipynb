{
 "cells": [
  {
   "cell_type": "code",
   "execution_count": 1,
   "id": "696c78e2-76df-4d30-93b2-c7f1af8c4327",
   "metadata": {},
   "outputs": [],
   "source": [
    "import PIL.Image\n",
    "import pytesseract\n",
    "import numpy as np\n",
    "import cv2\n",
    "import string\n",
    "import re\n",
    "import nltk\n",
    "import matplotlib.pyplot as plt"
   ]
  },
  {
   "cell_type": "code",
   "execution_count": 2,
   "id": "e2d43a7e-85ec-47f4-b6a6-c9d90259449a",
   "metadata": {},
   "outputs": [],
   "source": [
    "#nltk.download()"
   ]
  },
  {
   "cell_type": "code",
   "execution_count": 2,
   "id": "2c4866e5-b469-4e7a-bb2f-9622ea89efb6",
   "metadata": {},
   "outputs": [],
   "source": [
    "myconfig = r\"--psm 3 --oem 3\""
   ]
  },
  {
   "cell_type": "code",
   "execution_count": 3,
   "id": "aa0fc91a-c029-4121-8afc-b64dfd4bec93",
   "metadata": {},
   "outputs": [
    {
     "name": "stdout",
     "output_type": "stream",
     "text": [
      "Studi Kasus\n",
      "\n",
      "pembukaan daftar wisuda dan pelaksanaan nya lebih baik d umumkan di web tidak hanya di fakultas.\n",
      "sehingga memudahkan mahasiswa yang ada di luar kota. pelaksanaan wisuda sebaiknya terjadwal\n",
      "tidak tergantung pada kuota. sehingga lebih cepat mendapat ijazah.\n",
      "\n",
      "dalam setahun belakangan ini, pengaksesan KRS diganti ke SIAM (sebelumnya menggunakan\n",
      "SINERGI). saat menggunakan sinergi, fitur serta kecepatan akses sangat handal dan nyaman. tapi\n",
      "setelah digarti menggunakan SIAM, keadaan berbaik menjad buruk (lambat loading dan bahkan\n",
      "sampai logout dengan sendirinya). *KRS tidak hanya berpengaruh bagi mahasiswa semester muda tapi\n",
      "\n",
      "juga keseluruhan mahasiswa\n",
      "\n",
      "Assalamualaikum Wr. Wb. yang menjadi salah satu syarat untuk bisa ujian kompre ada sertifikat\n",
      "TOEIC, sehingga jika belum lulus toeic maka tidak bisa melakukan ujian kompre. saya rasa ini sangat\n",
      "menghambat teman-teman yang memang lemah dibidang bahasa inggris (atau yang kurang beruntung\n",
      "dalam ujian toeic-nya). sehingga mereka tidak bisa fokus untuk ujian kompre-nya. terima kasih..\n",
      "\n",
      "pak/bu dosen saya mau minta keringanan biaya proposional dan spp ,soalnya bu saya keberatan\n",
      "dengan biaya itu? terima kasih atas perhatiannya.\n",
      "\n"
     ]
    }
   ],
   "source": [
    "text = pytesseract.image_to_string(PIL.Image.open(\"tugas.jpg\"), config=myconfig)\n",
    "print(text)"
   ]
  },
  {
   "cell_type": "markdown",
   "id": "67e78a43-5abb-4cf2-b836-100405266167",
   "metadata": {
    "jp-MarkdownHeadingCollapsed": true
   },
   "source": [
    "### OCR menentukan text dengan tepat. Parsing dari Image ke Text sudah dilaksanakan"
   ]
  },
  {
   "cell_type": "markdown",
   "id": "70a28dce-fb82-4992-8652-a758cb63b188",
   "metadata": {},
   "source": [
    "Hanya diperlukan isi dalam tabel. -> Remove bagian yang tidak berguna"
   ]
  },
  {
   "cell_type": "code",
   "execution_count": 4,
   "id": "d53c6b98-4f90-467b-8b36-60b7cc6adcf7",
   "metadata": {
    "scrolled": true
   },
   "outputs": [
    {
     "name": "stdout",
     "output_type": "stream",
     "text": [
      "pembukaan daftar wisuda dan pelaksanaan nya lebih baik d umumkan di web tidak hanya di fakultas.\n",
      "sehingga memudahkan mahasiswa yang ada di luar kota. pelaksanaan wisuda sebaiknya terjadwal\n",
      "tidak tergantung pada kuota. sehingga lebih cepat mendapat ijazah.\n",
      "\n",
      "dalam setahun belakangan ini, pengaksesan KRS diganti ke SIAM (sebelumnya menggunakan\n",
      "SINERGI). saat menggunakan sinergi, fitur serta kecepatan akses sangat handal dan nyaman. tapi\n",
      "setelah digarti menggunakan SIAM, keadaan berbaik menjad buruk (lambat loading dan bahkan\n",
      "sampai logout dengan sendirinya). *KRS tidak hanya berpengaruh bagi mahasiswa semester muda tapi\n",
      "\n",
      "juga keseluruhan mahasiswa\n",
      "\n",
      "Assalamualaikum Wr. Wb. yang menjadi salah satu syarat untuk bisa ujian kompre ada sertifikat\n",
      "TOEIC, sehingga jika belum lulus toeic maka tidak bisa melakukan ujian kompre. saya rasa ini sangat\n",
      "menghambat teman-teman yang memang lemah dibidang bahasa inggris (atau yang kurang beruntung\n",
      "dalam ujian toeic-nya). sehingga mereka tidak bisa fokus untuk ujian kompre-nya. terima kasih..\n",
      "\n",
      "pak/bu dosen saya mau minta keringanan biaya proposional dan spp ,soalnya bu saya keberatan\n",
      "dengan biaya itu? terima kasih atas perhatiannya.\n",
      "\n"
     ]
    }
   ],
   "source": [
    "text = text[13:]\n",
    "print(text)"
   ]
  },
  {
   "cell_type": "markdown",
   "id": "4a57f9d5-6941-4da6-a10d-b0a12a7ecbc8",
   "metadata": {
    "jp-MarkdownHeadingCollapsed": true
   },
   "source": [
    "## -- CASE FOLDING --"
   ]
  },
  {
   "cell_type": "code",
   "execution_count": 5,
   "id": "61751d56-fd46-4500-b249-7f1798163672",
   "metadata": {},
   "outputs": [
    {
     "name": "stdout",
     "output_type": "stream",
     "text": [
      "pembukaan daftar wisuda dan pelaksanaan nya lebih baik d umumkan di web tidak hanya di fakultas\n",
      "sehingga memudahkan mahasiswa yang ada di luar kota pelaksanaan wisuda sebaiknya terjadwal\n",
      "tidak tergantung pada kuota sehingga lebih cepat mendapat ijazah\n",
      "\n",
      "dalam setahun belakangan ini pengaksesan krs diganti ke siam sebelumnya menggunakan\n",
      "sinergi saat menggunakan sinergi fitur serta kecepatan akses sangat handal dan nyaman tapi\n",
      "setelah digarti menggunakan siam keadaan berbaik menjad buruk lambat loading dan bahkan\n",
      "sampai logout dengan sendirinya krs tidak hanya berpengaruh bagi mahasiswa semester muda tapi\n",
      "\n",
      "juga keseluruhan mahasiswa\n",
      "\n",
      "assalamualaikum wr wb yang menjadi salah satu syarat untuk bisa ujian kompre ada sertifikat\n",
      "toeic sehingga jika belum lulus toeic maka tidak bisa melakukan ujian kompre saya rasa ini sangat\n",
      "menghambat temanteman yang memang lemah dibidang bahasa inggris atau yang kurang beruntung\n",
      "dalam ujian toeicnya sehingga mereka tidak bisa fokus untuk ujian komprenya terima kasih\n",
      "\n",
      "pakbu dosen saya mau minta keringanan biaya proposional dan spp soalnya bu saya keberatan\n",
      "dengan biaya itu terima kasih atas perhatiannya\n"
     ]
    }
   ],
   "source": [
    "# LOWERCASE \\\\ Mengubah semua isi teks menjadi lowercase\n",
    "text = text.lower()\n",
    "\n",
    "# REMOVING NUMBERS \\\\ Menghilangkan karakter angka\n",
    "text = re.sub(r\"\\d+\", \"\", text)\n",
    "\n",
    "# REMOVING PUNCTUATION \\\\ Menghapus tanda baca\n",
    "text = text.translate(str.maketrans(\"\",\"\",string.punctuation))\n",
    "\n",
    "# REMOVING WHITE SPACES \\\\ Menghilangkan karakter kosong\n",
    "text = text.strip()\n",
    "\n",
    "print(text)"
   ]
  },
  {
   "cell_type": "markdown",
   "id": "22043124-ab38-4ad8-88b3-44041931b9a7",
   "metadata": {},
   "source": [
    "### Spliting ( string -> list )"
   ]
  },
  {
   "cell_type": "markdown",
   "id": "9af14b48-f26a-4712-bd2f-f1716f289632",
   "metadata": {},
   "source": [
    "Merubah kalimat (string) ke dalam bentuk list per kata"
   ]
  },
  {
   "cell_type": "code",
   "execution_count": 6,
   "id": "1ecdec26-963a-4a07-acb2-95f4f60d1d8e",
   "metadata": {},
   "outputs": [
    {
     "name": "stdout",
     "output_type": "stream",
     "text": [
      "['pembukaan', 'daftar', 'wisuda', 'dan', 'pelaksanaan', 'nya', 'lebih', 'baik', 'd', 'umumkan', 'di', 'web', 'tidak', 'hanya', 'di', 'fakultas', 'sehingga', 'memudahkan', 'mahasiswa', 'yang', 'ada', 'di', 'luar', 'kota', 'pelaksanaan', 'wisuda', 'sebaiknya', 'terjadwal', 'tidak', 'tergantung', 'pada', 'kuota', 'sehingga', 'lebih', 'cepat', 'mendapat', 'ijazah', 'dalam', 'setahun', 'belakangan', 'ini', 'pengaksesan', 'krs', 'diganti', 'ke', 'siam', 'sebelumnya', 'menggunakan', 'sinergi', 'saat', 'menggunakan', 'sinergi', 'fitur', 'serta', 'kecepatan', 'akses', 'sangat', 'handal', 'dan', 'nyaman', 'tapi', 'setelah', 'digarti', 'menggunakan', 'siam', 'keadaan', 'berbaik', 'menjad', 'buruk', 'lambat', 'loading', 'dan', 'bahkan', 'sampai', 'logout', 'dengan', 'sendirinya', 'krs', 'tidak', 'hanya', 'berpengaruh', 'bagi', 'mahasiswa', 'semester', 'muda', 'tapi', 'juga', 'keseluruhan', 'mahasiswa', 'assalamualaikum', 'wr', 'wb', 'yang', 'menjadi', 'salah', 'satu', 'syarat', 'untuk', 'bisa', 'ujian', 'kompre', 'ada', 'sertifikat', 'toeic', 'sehingga', 'jika', 'belum', 'lulus', 'toeic', 'maka', 'tidak', 'bisa', 'melakukan', 'ujian', 'kompre', 'saya', 'rasa', 'ini', 'sangat', 'menghambat', 'temanteman', 'yang', 'memang', 'lemah', 'dibidang', 'bahasa', 'inggris', 'atau', 'yang', 'kurang', 'beruntung', 'dalam', 'ujian', 'toeicnya', 'sehingga', 'mereka', 'tidak', 'bisa', 'fokus', 'untuk', 'ujian', 'komprenya', 'terima', 'kasih', 'pakbu', 'dosen', 'saya', 'mau', 'minta', 'keringanan', 'biaya', 'proposional', 'dan', 'spp', 'soalnya', 'bu', 'saya', 'keberatan', 'dengan', 'biaya', 'itu', 'terima', 'kasih', 'atas', 'perhatiannya']\n"
     ]
    }
   ],
   "source": [
    "text_split = text.split()\n",
    "print(text_split)"
   ]
  },
  {
   "cell_type": "markdown",
   "id": "2d16aced-0942-4950-9c18-a91d380a7b69",
   "metadata": {
    "jp-MarkdownHeadingCollapsed": true
   },
   "source": [
    "## -- TOKENIZING --"
   ]
  },
  {
   "cell_type": "code",
   "execution_count": 7,
   "id": "efe1efcb-08e9-4668-841e-a55064faa024",
   "metadata": {},
   "outputs": [
    {
     "name": "stdout",
     "output_type": "stream",
     "text": [
      "['pembukaan', 'daftar', 'wisuda', 'dan', 'pelaksanaan', 'nya', 'lebih', 'baik', 'd', 'umumkan', 'di', 'web', 'tidak', 'hanya', 'di', 'fakultas', 'sehingga', 'memudahkan', 'mahasiswa', 'yang', 'ada', 'di', 'luar', 'kota', 'pelaksanaan', 'wisuda', 'sebaiknya', 'terjadwal', 'tidak', 'tergantung', 'pada', 'kuota', 'sehingga', 'lebih', 'cepat', 'mendapat', 'ijazah', 'dalam', 'setahun', 'belakangan', 'ini', 'pengaksesan', 'krs', 'diganti', 'ke', 'siam', 'sebelumnya', 'menggunakan', 'sinergi', 'saat', 'menggunakan', 'sinergi', 'fitur', 'serta', 'kecepatan', 'akses', 'sangat', 'handal', 'dan', 'nyaman', 'tapi', 'setelah', 'digarti', 'menggunakan', 'siam', 'keadaan', 'berbaik', 'menjad', 'buruk', 'lambat', 'loading', 'dan', 'bahkan', 'sampai', 'logout', 'dengan', 'sendirinya', 'krs', 'tidak', 'hanya', 'berpengaruh', 'bagi', 'mahasiswa', 'semester', 'muda', 'tapi', 'juga', 'keseluruhan', 'mahasiswa', 'assalamualaikum', 'wr', 'wb', 'yang', 'menjadi', 'salah', 'satu', 'syarat', 'untuk', 'bisa', 'ujian', 'kompre', 'ada', 'sertifikat', 'toeic', 'sehingga', 'jika', 'belum', 'lulus', 'toeic', 'maka', 'tidak', 'bisa', 'melakukan', 'ujian', 'kompre', 'saya', 'rasa', 'ini', 'sangat', 'menghambat', 'temanteman', 'yang', 'memang', 'lemah', 'dibidang', 'bahasa', 'inggris', 'atau', 'yang', 'kurang', 'beruntung', 'dalam', 'ujian', 'toeicnya', 'sehingga', 'mereka', 'tidak', 'bisa', 'fokus', 'untuk', 'ujian', 'komprenya', 'terima', 'kasih', 'pakbu', 'dosen', 'saya', 'mau', 'minta', 'keringanan', 'biaya', 'proposional', 'dan', 'spp', 'soalnya', 'bu', 'saya', 'keberatan', 'dengan', 'biaya', 'itu', 'terima', 'kasih', 'atas', 'perhatiannya']\n"
     ]
    }
   ],
   "source": [
    "from nltk.tokenize import word_tokenize \n",
    "\n",
    "tokens = nltk.tokenize.word_tokenize(text)\n",
    "print(tokens)"
   ]
  },
  {
   "cell_type": "markdown",
   "id": "ba7a73ca-d133-428d-aa9e-613929b5e626",
   "metadata": {},
   "source": [
    "### Frequency"
   ]
  },
  {
   "cell_type": "markdown",
   "id": "3d515936-67ee-46f0-a27a-051d8c2a4f47",
   "metadata": {},
   "source": [
    "Menghitung berapa sering kata-kata muncul"
   ]
  },
  {
   "cell_type": "code",
   "execution_count": 9,
   "id": "d2cd6ae0-13a2-4bf8-8237-4011bdcd4cb6",
   "metadata": {},
   "outputs": [
    {
     "name": "stdout",
     "output_type": "stream",
     "text": [
      "[('tidak', 5), ('dan', 4), ('sehingga', 4), ('yang', 4), ('ujian', 4), ('di', 3), ('mahasiswa', 3), ('menggunakan', 3), ('bisa', 3), ('saya', 3), ('wisuda', 2), ('pelaksanaan', 2), ('lebih', 2), ('hanya', 2), ('ada', 2), ('dalam', 2), ('ini', 2), ('krs', 2), ('siam', 2), ('sinergi', 2), ('sangat', 2), ('tapi', 2), ('dengan', 2), ('untuk', 2), ('kompre', 2), ('toeic', 2), ('terima', 2), ('kasih', 2), ('biaya', 2), ('pembukaan', 1), ('daftar', 1), ('nya', 1), ('baik', 1), ('d', 1), ('umumkan', 1), ('web', 1), ('fakultas', 1), ('memudahkan', 1), ('luar', 1), ('kota', 1), ('sebaiknya', 1), ('terjadwal', 1), ('tergantung', 1), ('pada', 1), ('kuota', 1), ('cepat', 1), ('mendapat', 1), ('ijazah', 1), ('setahun', 1), ('belakangan', 1), ('pengaksesan', 1), ('diganti', 1), ('ke', 1), ('sebelumnya', 1), ('saat', 1), ('fitur', 1), ('serta', 1), ('kecepatan', 1), ('akses', 1), ('handal', 1), ('nyaman', 1), ('setelah', 1), ('digarti', 1), ('keadaan', 1), ('berbaik', 1), ('menjad', 1), ('buruk', 1), ('lambat', 1), ('loading', 1), ('bahkan', 1), ('sampai', 1), ('logout', 1), ('sendirinya', 1), ('berpengaruh', 1), ('bagi', 1), ('semester', 1), ('muda', 1), ('juga', 1), ('keseluruhan', 1), ('assalamualaikum', 1), ('wr', 1), ('wb', 1), ('menjadi', 1), ('salah', 1), ('satu', 1), ('syarat', 1), ('sertifikat', 1), ('jika', 1), ('belum', 1), ('lulus', 1), ('maka', 1), ('melakukan', 1), ('rasa', 1), ('menghambat', 1), ('temanteman', 1), ('memang', 1), ('lemah', 1), ('dibidang', 1), ('bahasa', 1), ('inggris', 1), ('atau', 1), ('kurang', 1), ('beruntung', 1), ('toeicnya', 1), ('mereka', 1), ('fokus', 1), ('komprenya', 1), ('pakbu', 1), ('dosen', 1), ('mau', 1), ('minta', 1), ('keringanan', 1), ('proposional', 1), ('spp', 1), ('soalnya', 1), ('bu', 1), ('keberatan', 1), ('itu', 1), ('atas', 1), ('perhatiannya', 1)]\n"
     ]
    }
   ],
   "source": [
    "kemunculan = nltk.FreqDist(tokens)\n",
    "print(kemunculan.most_common())"
   ]
  },
  {
   "cell_type": "code",
   "execution_count": 10,
   "id": "ca2a9d46-6dc5-4695-960f-57c43ca64a5f",
   "metadata": {},
   "outputs": [
    {
     "data": {
      "image/png": "[encoded data removed]",
      "text/plain": [
       "<Figure size 640x480 with 1 Axes>"
      ]
     },
     "metadata": {},
     "output_type": "display_data"
    }
   ],
   "source": [
    "kemunculan.plot(30,cumulative=False)\n",
    "plt.show()"
   ]
  },
  {
   "cell_type": "markdown",
   "id": "83d661d3-cc95-4a2b-9cc4-4f2c4966a86b",
   "metadata": {
    "jp-MarkdownHeadingCollapsed": true
   },
   "source": [
    "## -- FILTERING -- "
   ]
  },
  {
   "cell_type": "markdown",
   "id": "ebf9c99b-006a-4cf0-a949-b687d9d784bc",
   "metadata": {},
   "source": [
    "### Menggunakan NLTK"
   ]
  },
  {
   "cell_type": "code",
   "execution_count": 11,
   "id": "5da3fdd9-2146-440b-9d4d-f5e86e22bc7f",
   "metadata": {},
   "outputs": [
    {
     "name": "stdout",
     "output_type": "stream",
     "text": [
      "['pembukaan', 'daftar', 'wisuda', 'pelaksanaan', 'nya', 'd', 'umumkan', 'web', 'fakultas', 'memudahkan', 'mahasiswa', 'kota', 'pelaksanaan', 'wisuda', 'terjadwal', 'tergantung', 'kuota', 'cepat', 'ijazah', 'setahun', 'pengaksesan', 'krs', 'diganti', 'siam', 'sinergi', 'sinergi', 'fitur', 'kecepatan', 'akses', 'handal', 'nyaman', 'digarti', 'siam', 'berbaik', 'menjad', 'buruk', 'lambat', 'loading', 'logout', 'krs', 'berpengaruh', 'mahasiswa', 'semester', 'muda', 'mahasiswa', 'assalamualaikum', 'wr', 'wb', 'salah', 'syarat', 'ujian', 'kompre', 'sertifikat', 'toeic', 'lulus', 'toeic', 'ujian', 'kompre', 'menghambat', 'temanteman', 'lemah', 'dibidang', 'bahasa', 'inggris', 'beruntung', 'ujian', 'toeicnya', 'fokus', 'ujian', 'komprenya', 'terima', 'kasih', 'pakbu', 'dosen', 'keringanan', 'biaya', 'proposional', 'spp', 'bu', 'keberatan', 'biaya', 'terima', 'kasih', 'perhatiannya']\n"
     ]
    }
   ],
   "source": [
    "from nltk.tokenize import sent_tokenize, word_tokenize\n",
    "from nltk.corpus import stopwords\n",
    "\n",
    "tokens = word_tokenize(text)\n",
    "listStopword = set(stopwords.words('indonesian'))\n",
    "\n",
    "removed = []\n",
    "for t in tokens:\n",
    "    if t not in listStopword:\n",
    "        removed.append(t)\n",
    " \n",
    "print(removed)"
   ]
  },
  {
   "cell_type": "markdown",
   "id": "95b37a71-5d60-40a1-845a-fbf66d8fd4d8",
   "metadata": {},
   "source": [
    "### Menggunakan Sastrawi"
   ]
  },
  {
   "cell_type": "code",
   "execution_count": 12,
   "id": "8df647c4-dbd1-4b35-9322-8c677f8c4450",
   "metadata": {},
   "outputs": [
    {
     "name": "stdout",
     "output_type": "stream",
     "text": [
      "['pembukaan', 'daftar', 'wisuda', 'pelaksanaan', 'nya', 'lebih', 'baik', 'd', 'umumkan', 'web', 'hanya', 'fakultas', 'sehingga', 'memudahkan', 'mahasiswa', 'luar', 'kota', 'pelaksanaan', 'wisuda', 'sebaiknya', 'terjadwal', 'tidak', 'tergantung', 'kuota', 'lebih', 'cepat', 'mendapat', 'ijazah', 'dalam', 'setahun', 'belakangan', 'pengaksesan', 'krs', 'diganti', 'siam', 'sebelumnya', 'menggunakan', 'sinergi', 'menggunakan', 'sinergi', 'fitur', 'kecepatan', 'akses', 'sangat', 'handal', 'nyaman', 'tapi', 'setelah', 'digarti', 'menggunakan', 'siam', 'keadaan', 'berbaik', 'menjad', 'buruk', 'lambat', 'loading', 'bahkan', 'sampai', 'logout', 'sendirinya', 'krs', 'hanya', 'berpengaruh', 'mahasiswa', 'semester', 'muda', 'tapi', 'juga', 'keseluruhan', 'mahasiswa', 'assalamualaikum', 'wr', 'wb', 'menjadi', 'salah', 'satu', 'syarat', 'ujian', 'kompre', 'ada', 'sertifikat', 'toeic', 'jika', 'lulus', 'toeic', 'bisa', 'melakukan', 'ujian', 'kompre', 'rasa', 'sangat', 'menghambat', 'temanteman', 'memang', 'lemah', 'dibidang', 'bahasa', 'inggris', 'yang', 'kurang', 'beruntung', 'dalam', 'ujian', 'toeicnya', 'mereka', 'tidak', 'bisa', 'fokus', 'ujian', 'komprenya', 'terima', 'kasih', 'pakbu', 'dosen', 'mau', 'minta', 'keringanan', 'biaya', 'proposional', 'spp', 'soalnya', 'bu', 'keberatan', 'dengan', 'biaya', 'terima', 'kasih', 'atas', 'perhatiannya']\n"
     ]
    }
   ],
   "source": [
    "from Sastrawi.StopWordRemover.StopWordRemoverFactory import StopWordRemoverFactory\n",
    "from nltk.tokenize import word_tokenize \n",
    "\n",
    "factory = StopWordRemoverFactory()\n",
    "stopword = factory.create_stop_word_remover()\n",
    "\n",
    "text = text.translate(str.maketrans('','',string.punctuation)).lower()\n",
    "\n",
    "stop = stopword.remove(text)\n",
    "tokens = nltk.tokenize.word_tokenize(stop)\n",
    "\n",
    "print(tokens)"
   ]
  },
  {
   "cell_type": "code",
   "execution_count": 14,
   "id": "7f771fe9-499c-4dad-b8d8-afd3bdd890f6",
   "metadata": {},
   "outputs": [
    {
     "name": "stdout",
     "output_type": "stream",
     "text": [
      "['pembukaan', 'daftar', 'wisuda', 'pelaksanaan', 'nya', 'lebih', 'baik', 'umumkan', 'web', 'hanya', 'fakultas', 'sehingga', 'memudahkan', 'mahasiswa', 'luar', 'kota', 'pelaksanaan', 'wisuda', 'sebaiknya', 'terjadwal', 'tidak', 'tergantung', 'kuota', 'lebih', 'cepat', 'mendapat', 'ijazah', 'dalam', 'setahun', 'belakangan', 'pengaksesan', 'krs', 'diganti', 'siam', 'sebelumnya', 'menggunakan', 'sinergi', 'menggunakan', 'sinergi', 'fitur', 'kecepatan', 'akses', 'sangat', 'handal', 'nyaman', 'tapi', 'setelah', 'digarti', 'menggunakan', 'siam', 'keadaan', 'berbaik', 'menjad', 'buruk', 'lambat', 'loading', 'bahkan', 'sampai', 'logout', 'sendirinya', 'krs', 'hanya', 'berpengaruh', 'mahasiswa', 'semester', 'muda', 'tapi', 'juga', 'keseluruhan', 'mahasiswa', 'assalamualaikum', 'wr', 'wb', 'menjadi', 'salah', 'satu', 'syarat', 'ujian', 'kompre', 'ada', 'sertifikat', 'toeic', 'jika', 'lulus', 'toeic', 'bisa', 'melakukan', 'ujian', 'kompre', 'rasa', 'sangat', 'menghambat', 'temanteman', 'memang', 'lemah', 'dibidang', 'bahasa', 'inggris', 'yang', 'kurang', 'beruntung', 'dalam', 'ujian', 'toeicnya', 'mereka', 'tidak', 'bisa', 'fokus', 'ujian', 'komprenya', 'terima', 'kasih', 'pakbu', 'dosen', 'mau', 'minta', 'keringanan', 'biaya', 'proposional', 'spp', 'soalnya', 'bu', 'keberatan', 'dengan', 'biaya', 'terima', 'kasih', 'atas', 'perhatiannya']\n"
     ]
    }
   ],
   "source": [
    "from Sastrawi.StopWordRemover.StopWordRemoverFactory import StopWordRemoverFactory, StopWordRemover, ArrayDictionary\n",
    "stop_factory = StopWordRemoverFactory().get_stop_words()\n",
    "more_stopword = ['d']\n",
    "data = stop_factory + more_stopword\n",
    "\n",
    "\n",
    "dictionary = ArrayDictionary(data)\n",
    "str2 = StopWordRemover(dictionary)\n",
    "tokens = nltk.tokenize.word_tokenize(str2.remove(text))\n",
    "print(tokens)"
   ]
  },
  {
   "cell_type": "markdown",
   "id": "b7b59c24-8cec-4fc0-8e75-c9c5efba432e",
   "metadata": {
    "jp-MarkdownHeadingCollapsed": true
   },
   "source": [
    "## -- STEMMING --"
   ]
  },
  {
   "cell_type": "code",
   "execution_count": 17,
   "id": "98b41dca-419e-4dee-8746-94d231127d81",
   "metadata": {},
   "outputs": [
    {
     "name": "stdout",
     "output_type": "stream",
     "text": [
      "buka daftar wisuda dan laksana nya lebih baik d umum di web tidak hanya di fakultas sehingga mudah mahasiswa yang ada di luar kota laksana wisuda baik jadwal tidak gantung pada kuota sehingga lebih cepat dapat ijazah dalam tahun belakang ini akses krs ganti ke siam belum guna sinergi saat guna sinergi fitur serta cepat akses sangat handal dan nyaman tapi telah digarti guna siam ada baik menjad buruk lambat loading dan bahkan sampai logout dengan sendiri krs tidak hanya pengaruh bagi mahasiswa semester muda tapi juga seluruh mahasiswa assalamualaikum wr wb yang jadi salah satu syarat untuk bisa uji kompre ada sertifikat toeic sehingga jika belum lulus toeic maka tidak bisa laku uji kompre saya rasa ini sangat hambat temanteman yang memang lemah bidang bahasa inggris atau yang kurang untung dalam uji toeicnya sehingga mereka tidak bisa fokus untuk uji komprenya terima kasih pakbu dosen saya mau minta ringan biaya proposional dan spp soal bu saya berat dengan biaya itu terima kasih atas perhati\n"
     ]
    }
   ],
   "source": [
    "from Sastrawi.Stemmer.StemmerFactory import StemmerFactory\n",
    "factory = StemmerFactory()\n",
    "stemmer = factory.create_stemmer()\n",
    " \n",
    "hasil = stemmer.stem(text)\n",
    "print(hasil)"
   ]
  },
  {
   "cell_type": "code",
   "execution_count": null,
   "id": "6a2ddb8b-fcde-4e36-84ff-01b402669504",
   "metadata": {},
   "outputs": [],
   "source": []
  }
 ],
 "metadata": {
  "kernelspec": {
   "display_name": "Python 3 (ipykernel)",
   "language": "python",
   "name": "python3"
  },
  "language_info": {
   "codemirror_mode": {
    "name": "ipython",
    "version": 3
   },
   "file_extension": ".py",
   "mimetype": "text/x-python",
   "name": "python",
   "nbconvert_exporter": "python",
   "pygments_lexer": "ipython3",
   "version": "3.8.18"
  }
 },
 "nbformat": 4,
 "nbformat_minor": 5
}
